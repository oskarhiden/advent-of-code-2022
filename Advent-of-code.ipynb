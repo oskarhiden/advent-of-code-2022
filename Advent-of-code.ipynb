{
 "cells": [
  {
   "attachments": {},
   "cell_type": "markdown",
   "metadata": {},
   "source": [
    "## Dec 1"
   ]
  },
  {
   "cell_type": "code",
   "execution_count": 2,
   "metadata": {},
   "outputs": [],
   "source": [
    "import numpy as np"
   ]
  },
  {
   "cell_type": "code",
   "execution_count": 3,
   "metadata": {},
   "outputs": [],
   "source": [
    "# read text file named dec1-input.txt\n",
    "with open('dec1-input.txt') as f:\n",
    "    content = f.readlines()\n",
    "content = [x.strip() for x in content]\n"
   ]
  },
  {
   "cell_type": "code",
   "execution_count": 4,
   "metadata": {},
   "outputs": [],
   "source": [
    "sum_list = []\n",
    "sum = 0\n",
    "for i,val in enumerate(content):\n",
    "    if val =='':\n",
    "        sum_list.append(sum)\n",
    "        sum=0\n",
    "    else:\n",
    "        sum = sum + int(val)\n"
   ]
  },
  {
   "cell_type": "code",
   "execution_count": 5,
   "metadata": {},
   "outputs": [
    {
     "name": "stdout",
     "output_type": "stream",
     "text": [
      "Elf nr:  26\n",
      "And is caring:  70764\n"
     ]
    }
   ],
   "source": [
    "print(\"Elf nr: \", np.argmax(np.array(sum_list))+1)\n",
    "print(\"And is caring: \", max(sum_list))"
   ]
  },
  {
   "cell_type": "code",
   "execution_count": 6,
   "metadata": {},
   "outputs": [
    {
     "name": "stdout",
     "output_type": "stream",
     "text": [
      "top 3 is carrying:  203905\n"
     ]
    }
   ],
   "source": [
    "# Part 2\n",
    "sum_list.sort()\n",
    "print(\"top 3 is carrying: \", np.sum(sum_list[-3:]))\n"
   ]
  },
  {
   "attachments": {},
   "cell_type": "markdown",
   "metadata": {},
   "source": [
    "## Dec 2"
   ]
  },
  {
   "cell_type": "code",
   "execution_count": 7,
   "metadata": {},
   "outputs": [],
   "source": [
    "with open('dec2-input.txt') as f:\n",
    "    plan = f.readlines()\n",
    "plan = [x.strip().split(' ') for x in plan]\n",
    "#plan[:10]"
   ]
  },
  {
   "cell_type": "code",
   "execution_count": 8,
   "metadata": {},
   "outputs": [],
   "source": [
    "def hand_score(hand):\n",
    "    return ['X', 'Y', 'Z'].index(hand)+1\n",
    "\n",
    "\n",
    "def game_score(p1, p2):\n",
    "    # A = rock, B = paper, C = scissor\n",
    "    # X = rock, Y = paper, Z = scissor\n",
    "    \n",
    "    # Could just define with if or case.\n",
    "    # score from game\n",
    "    if p1=='A' and p2=='Y':\n",
    "        result = 6  #winner\n",
    "    elif p1=='A' and p2=='Z':\n",
    "        result = 0  #lost\n",
    "    elif p1=='B' and p2=='X':\n",
    "        result = 0  #lost\n",
    "    elif p1=='B' and p2=='Z':\n",
    "        result = 6  #winner\n",
    "    elif p1=='C' and p2=='X':\n",
    "        result = 6  #winner\n",
    "    elif p1=='C' and p2=='Y':\n",
    "        result = 0  #lost\n",
    "    else:\n",
    "        result = 3  #draw\n",
    "\n",
    "    return result\n",
    "\n",
    "\n",
    "def total_score(opp, you):\n",
    "    return game_score(opp, you) + hand_score(you)  \n"
   ]
  },
  {
   "cell_type": "code",
   "execution_count": 9,
   "metadata": {},
   "outputs": [],
   "source": [
    "gamescore  = 0\n",
    "for i, game in enumerate(plan):\n",
    "    opponent = game[0]\n",
    "    you = game[1]\n",
    "    gamescore += total_score(opponent, you)"
   ]
  },
  {
   "cell_type": "code",
   "execution_count": 10,
   "metadata": {},
   "outputs": [
    {
     "data": {
      "text/plain": [
       "12679"
      ]
     },
     "execution_count": 10,
     "metadata": {},
     "output_type": "execute_result"
    }
   ],
   "source": [
    "gamescore"
   ]
  },
  {
   "cell_type": "code",
   "execution_count": 11,
   "metadata": {},
   "outputs": [
    {
     "data": {
      "text/plain": [
       "12679"
      ]
     },
     "execution_count": 11,
     "metadata": {},
     "output_type": "execute_result"
    }
   ],
   "source": [
    "# alt with the use of matrix\n",
    "dic = {\n",
    "        'A' : 0,\n",
    "        'B' : 1,\n",
    "        'C' : 2,\n",
    "        'X' : 0,\n",
    "        'Y' : 1,\n",
    "        'Z' : 2\n",
    "    }\n",
    "\n",
    "        # X Y Z\n",
    "look = [[3, 6, 0],  # A \n",
    "        [0, 3, 6],   # B\n",
    "        [6, 0, 3]]   # Z\n",
    "# p1 is row and p2 column\n",
    "\n",
    "def game_res(p1, p2):\n",
    "    return look[p1][p2] + p2+1 # game score + handscore\n",
    "\n",
    "gamescore = 0\n",
    "for i, game in enumerate(plan):\n",
    "    opponent = dic[game[0]]\n",
    "    you = dic[game[1]]\n",
    "    gamescore += game_res(opponent, you)\n",
    "\n",
    "gamescore"
   ]
  },
  {
   "cell_type": "code",
   "execution_count": 12,
   "metadata": {},
   "outputs": [],
   "source": [
    "# Part2\n",
    "def game_score2(opp, do):\n",
    "    # X - lose, Y - draw, Z - win\n",
    "    return ['X', 'Y', 'Z'].index(do)*3\n",
    "    # 0    1    2 \n",
    "    #*3 gives 0, 3, 6\n",
    "\n",
    "def hand_score2(p1, do):\n",
    "    # A = rock, B = paper, C = scissor\n",
    "    # X - lose, Y - draw, Z - win\n",
    "\n",
    "    if p1=='A' and do=='X':\n",
    "        result = 'C'  #scissor\n",
    "    elif p1=='A' and do=='Z':\n",
    "        result = 'B'  #paper\n",
    "    elif p1=='B' and do=='X':\n",
    "        result = 'A'  #rock\n",
    "    elif p1=='B' and do=='Z':\n",
    "        result = 'C'  #scissor\n",
    "    elif p1=='C' and do=='X':\n",
    "        result = 'B'  #paper\n",
    "    elif p1=='C' and do=='Z':\n",
    "        result = 'A'  #rock\n",
    "    else:\n",
    "        result = p1  #draw take same\n",
    "    #print(result)\n",
    "    return ['A', 'B', 'C'].index(result)+1\n",
    "\n",
    "def total_score2(p1, do):\n",
    "    return game_score2(p1, do) + hand_score2(p1, do)"
   ]
  },
  {
   "cell_type": "code",
   "execution_count": 13,
   "metadata": {},
   "outputs": [
    {
     "data": {
      "text/plain": [
       "14470"
      ]
     },
     "execution_count": 13,
     "metadata": {},
     "output_type": "execute_result"
    }
   ],
   "source": [
    "gamescore  = 0\n",
    "#plan2 = [['A', 'Y'], ['B', 'X'], ['C', 'Z']]\n",
    "for i, game in enumerate(plan):\n",
    "    opponent = game[0]\n",
    "    do = game[1]\n",
    "    gamescore += total_score2(opponent, do)\n",
    "\n",
    "gamescore"
   ]
  },
  {
   "attachments": {},
   "cell_type": "markdown",
   "metadata": {},
   "source": [
    "## Dec 3"
   ]
  },
  {
   "cell_type": "code",
   "execution_count": 14,
   "metadata": {},
   "outputs": [],
   "source": [
    "with open('dec3-input.txt') as f:\n",
    "    content = f.readlines()\n",
    "content = np.array([x.strip() for x in content])"
   ]
  },
  {
   "cell_type": "code",
   "execution_count": 15,
   "metadata": {},
   "outputs": [
    {
     "data": {
      "text/plain": [
       "7845"
      ]
     },
     "execution_count": 15,
     "metadata": {},
     "output_type": "execute_result"
    }
   ],
   "source": [
    "chars = list('abcdefghijklmnopqrstuvwxyzABCDEFGHIJKLMNOPQRSTUVWXYZ')\n",
    "\n",
    "def get_prio(c):\n",
    "    return chars.index(c) + 1\n",
    "\n",
    "prio = 0\n",
    "for i, row in enumerate(content):\n",
    "    size = int(len(row)/2)\n",
    "    \n",
    "    #unique = np.unique(list(row))\n",
    "    #l = [c for c in unique if c in row[:size] and c in row[size:]][0]\n",
    "    # or with set\n",
    "    l = set(row[:size]).intersection(row[size:]).pop()\n",
    "    prio += get_prio(l)\n",
    "\n",
    "prio"
   ]
  },
  {
   "cell_type": "code",
   "execution_count": 16,
   "metadata": {},
   "outputs": [
    {
     "data": {
      "text/plain": [
       "2790"
      ]
     },
     "execution_count": 16,
     "metadata": {},
     "output_type": "execute_result"
    }
   ],
   "source": [
    "# Part2\n",
    "nr_groups = int(len(content)/3)\n",
    "\n",
    "total_prio = 0\n",
    "for i in range(nr_groups):\n",
    "    group_bags = content[i*3:i*3+3]\n",
    "    \n",
    "    #unique = ''.join(group_bags)\n",
    "    #unique = np.unique(list(unique))\n",
    "    #for char in unique:\n",
    "    #    if char in group_bags[0] and char in group_bags[1] and char in group_bags[2]:\n",
    "    #        total_prio += get_prio(char)\n",
    "    #        break\n",
    "    # or with set\n",
    "    l = set(group_bags[0]).intersection(group_bags[1]).intersection(group_bags[2]).pop()\n",
    "    total_prio += get_prio(l)\n",
    "\n",
    "total_prio"
   ]
  },
  {
   "attachments": {},
   "cell_type": "markdown",
   "metadata": {},
   "source": [
    "## Dec 4"
   ]
  },
  {
   "cell_type": "code",
   "execution_count": 17,
   "metadata": {},
   "outputs": [
    {
     "data": {
      "text/plain": [
       "1000"
      ]
     },
     "execution_count": 17,
     "metadata": {},
     "output_type": "execute_result"
    }
   ],
   "source": [
    "import numpy as np\n",
    "with open('dec4-input.txt') as f:\n",
    "    content = f.readlines()\n",
    "len(content)"
   ]
  },
  {
   "cell_type": "code",
   "execution_count": 18,
   "metadata": {},
   "outputs": [
    {
     "data": {
      "text/plain": [
       "532"
      ]
     },
     "execution_count": 18,
     "metadata": {},
     "output_type": "execute_result"
    }
   ],
   "source": [
    "fully = 0\n",
    "for x in content:\n",
    "    part = x.strip().split(',')\n",
    "\n",
    "    sets = []\n",
    "    for y in part:\n",
    "        a = y.split('-')\n",
    "        sets.append(set(range(int(a[0]), int(a[1])+1)))\n",
    "\n",
    "    a_sub_b = sets[0].issubset(sets[1])\n",
    "    b_sub_a = sets[1].issubset(sets[0])\n",
    "    if a_sub_b or b_sub_a:\n",
    "        fully += 1\n",
    "    \n",
    "fully"
   ]
  },
  {
   "cell_type": "code",
   "execution_count": 19,
   "metadata": {},
   "outputs": [
    {
     "data": {
      "text/plain": [
       "854"
      ]
     },
     "execution_count": 19,
     "metadata": {},
     "output_type": "execute_result"
    }
   ],
   "source": [
    "# Part2\n",
    "intersect = 0\n",
    "for x in content:\n",
    "    part = x.strip().split(',')\n",
    "\n",
    "    sets = []\n",
    "    for y in part:\n",
    "        a = y.split('-')\n",
    "        sets.append(set(range(int(a[0]), int(a[1])+1)))\n",
    "\n",
    "    inters = sets[0].intersection(sets[1])\n",
    "    #b_sub_a = sets[1].issubset(sets[0])\n",
    "    if len(inters)>0:\n",
    "        intersect += 1\n",
    "\n",
    "intersect"
   ]
  },
  {
   "cell_type": "code",
   "execution_count": 25,
   "metadata": {},
   "outputs": [
    {
     "name": "stdout",
     "output_type": "stream",
     "text": [
      "[['22', '77'], ['14', '96']]\n",
      "[['22', '77'], ['14', '96']]\n"
     ]
    },
    {
     "data": {
      "text/plain": [
       "0"
      ]
     },
     "execution_count": 25,
     "metadata": {},
     "output_type": "execute_result"
    }
   ],
   "source": [
    "# Alternativly using if\n",
    "fullyconnect = 0\n",
    "for x in content:\n",
    "    part = x.strip().split(',')\n",
    "\n",
    "    b = [a.split('-') for a in part]\n",
    "    \n",
    "    n1_start = int(b[0][0])\n",
    "    n1_end = int(b[0][1])\n",
    "    n2_start = int(b[1][0])\n",
    "    n2_end = int(b[1][1])\n",
    "    \n",
    "\n",
    "    # is first number between second numbers\n",
    "    if n2_start <= n1_start <= n2_end:\n",
    "        print(b)\n",
    "        \n",
    "    print(b)\n",
    "    break\n",
    "\n",
    "    sets = []\n",
    "    for y in part:\n",
    "        a = y.split('-')\n",
    "        sets.append(set(range(int(a[0]), int(a[1])+1)))\n",
    "\n",
    "    a_sub_b = sets[0].issubset(sets[1])\n",
    "    b_sub_a = sets[1].issubset(sets[0])\n",
    "    if a_sub_b or b_sub_a:\n",
    "        fullyconnect += 1\n",
    "    \n",
    "fullyconnect"
   ]
  },
  {
   "attachments": {},
   "cell_type": "markdown",
   "metadata": {},
   "source": [
    "## Dec 5"
   ]
  },
  {
   "cell_type": "code",
   "execution_count": 1,
   "metadata": {},
   "outputs": [],
   "source": [
    "with open('dec5-input.txt') as f:\n",
    "    content = f.readlines()\n"
   ]
  },
  {
   "cell_type": "code",
   "execution_count": 80,
   "metadata": {},
   "outputs": [],
   "source": [
    "for nrrow, cont in enumerate(content):\n",
    "    if cont[0]=='\\n':\n",
    "        break\n",
    "\n",
    "start = [x for x in content[:nrrow]]\n",
    "moves = [x.strip().split() for x in content[nrrow+1:]]\n",
    "    "
   ]
  },
  {
   "cell_type": "code",
   "execution_count": 81,
   "metadata": {},
   "outputs": [
    {
     "name": "stdout",
     "output_type": "stream",
     "text": [
      "9\n",
      "9\n"
     ]
    },
    {
     "data": {
      "text/plain": [
       "['            [C]         [N] [R]    \\n',\n",
       " '[J] [T]     [H]         [P] [L]    \\n',\n",
       " '[F] [S] [T] [B]         [M] [D]    \\n',\n",
       " '[C] [L] [J] [Z] [S]     [L] [B]    \\n',\n",
       " '[N] [Q] [G] [J] [J]     [F] [F] [R]\\n',\n",
       " '[D] [V] [B] [L] [B] [Q] [D] [M] [T]\\n',\n",
       " '[B] [Z] [Z] [T] [V] [S] [V] [S] [D]\\n',\n",
       " '[W] [P] [P] [D] [G] [P] [B] [P] [V]\\n',\n",
       " ' 1   2   3   4   5   6   7   8   9 \\n']"
      ]
     },
     "execution_count": 81,
     "metadata": {},
     "output_type": "execute_result"
    }
   ],
   "source": [
    "print(len(start))\n",
    "nrcol = int(len(start[0])/4)\n",
    "print(nrcol)\n",
    "start"
   ]
  },
  {
   "cell_type": "code",
   "execution_count": 154,
   "metadata": {},
   "outputs": [
    {
     "data": {
      "text/plain": [
       "[[' 1 ', '[W]', '[B]', '[D]', '[N]', '[C]', '[F]', '[J]'],\n",
       " [' 2 ', '[P]', '[Z]', '[V]', '[Q]', '[L]', '[S]', '[T]'],\n",
       " [' 3 ', '[P]', '[Z]', '[B]', '[G]', '[J]', '[T]'],\n",
       " [' 4 ', '[D]', '[T]', '[L]', '[J]', '[Z]', '[B]', '[H]', '[C]'],\n",
       " [' 5 ', '[G]', '[V]', '[B]', '[J]', '[S]'],\n",
       " [' 6 ', '[P]', '[S]', '[Q]'],\n",
       " [' 7 ', '[B]', '[V]', '[D]', '[F]', '[L]', '[M]', '[P]', '[N]'],\n",
       " [' 8 ', '[P]', '[S]', '[M]', '[F]', '[B]', '[D]', '[L]', '[R]'],\n",
       " [' 9 ', '[V]', '[D]', '[T]', '[R]']]"
      ]
     },
     "execution_count": 154,
     "metadata": {},
     "output_type": "execute_result"
    }
   ],
   "source": [
    "stapels = []\n",
    "for i in range(nrcol):\n",
    "    stapel = []\n",
    "    for j in reversed(range(nrrow)):\n",
    "        if start[j][i*4:i*4+3] != '   ':\n",
    "            stapel.append(start[j][i*4:i*4+3])\n",
    "    stapels.append(stapel)\n",
    "stapels"
   ]
  },
  {
   "cell_type": "code",
   "execution_count": 155,
   "metadata": {},
   "outputs": [
    {
     "data": {
      "text/plain": [
       "[[' 1 ', '[H]', '[J]', '[G]', '[R]', '[C]', '[C]', '[M]', '[L]'],\n",
       " [' 2 ', '[W]', '[B]'],\n",
       " [' 3 ', '[S]', '[B]', '[T]', '[Z]', '[F]', '[V]', '[L]'],\n",
       " [' 4 ', '[V]'],\n",
       " [' 5 ',\n",
       "  '[N]',\n",
       "  '[B]',\n",
       "  '[P]',\n",
       "  '[Z]',\n",
       "  '[J]',\n",
       "  '[P]',\n",
       "  '[P]',\n",
       "  '[S]',\n",
       "  '[P]',\n",
       "  '[B]',\n",
       "  '[Q]',\n",
       "  '[J]',\n",
       "  '[V]'],\n",
       " [' 6 ', '[Z]', '[G]', '[F]', '[J]', '[T]', '[M]', '[Q]', '[S]', '[R]', '[T]'],\n",
       " [' 7 ', '[N]', '[L]', '[B]', '[T]', '[V]'],\n",
       " [' 8 ', '[D]', '[D]', '[D]', '[B]', '[F]', '[D]', '[L]'],\n",
       " [' 9 ', '[S]', '[D]', '[P]']]"
      ]
     },
     "execution_count": 155,
     "metadata": {},
     "output_type": "execute_result"
    }
   ],
   "source": [
    "for move in moves:\n",
    "    nr = int(move[1]); fr = int(move[3]); to = int(move[5])\n",
    "    for i in range(nr):\n",
    "        tomove = stapels[fr-1].pop()\n",
    "        stapels[to-1].append(tomove)\n",
    "stapels"
   ]
  },
  {
   "cell_type": "code",
   "execution_count": 151,
   "metadata": {},
   "outputs": [
    {
     "data": {
      "text/plain": [
       "'LBLVVTVLP'"
      ]
     },
     "execution_count": 151,
     "metadata": {},
     "output_type": "execute_result"
    }
   ],
   "source": [
    "ontop = [x[-1][1] for x in stapels]\n",
    "''.join(ontop)"
   ]
  },
  {
   "cell_type": "code",
   "execution_count": 146,
   "metadata": {},
   "outputs": [
    {
     "data": {
      "text/plain": [
       "[[' 1 ', '[W]', '[B]', '[D]', '[N]', '[C]', '[F]', '[J]'],\n",
       " [' 2 ', '[P]', '[Z]', '[V]', '[Q]', '[L]', '[S]', '[T]'],\n",
       " [' 3 ', '[P]', '[Z]', '[B]', '[G]', '[J]', '[T]'],\n",
       " [' 4 ', '[D]', '[T]', '[L]', '[J]', '[Z]', '[B]', '[H]', '[C]'],\n",
       " [' 5 ', '[G]', '[V]', '[B]', '[J]', '[S]'],\n",
       " [' 6 ', '[P]', '[S]', '[Q]'],\n",
       " [' 7 ', '[B]', '[V]', '[D]', '[F]', '[L]', '[M]', '[P]', '[N]'],\n",
       " [' 8 ', '[P]', '[S]', '[M]', '[F]', '[B]', '[D]', '[L]', '[R]'],\n",
       " [' 9 ', '[V]', '[D]', '[T]', '[R]']]"
      ]
     },
     "execution_count": 146,
     "metadata": {},
     "output_type": "execute_result"
    }
   ],
   "source": [
    "# Part2\n",
    "stapels = []\n",
    "for i in range(nrcol):\n",
    "    stapel = []\n",
    "    for j in reversed(range(nrrow)):\n",
    "        if start[j][i*4:i*4+3] != '   ':\n",
    "            stapel.append(start[j][i*4:i*4+3])\n",
    "    stapels.append(stapel)\n",
    "stapels"
   ]
  },
  {
   "cell_type": "code",
   "execution_count": 147,
   "metadata": {},
   "outputs": [
    {
     "data": {
      "text/plain": [
       "[[' 1 ', '[D]', '[S]', '[P]', '[P]', '[L]', '[M]', '[H]', '[T]'],\n",
       " [' 2 ', '[P]', '[P]'],\n",
       " [' 3 ', '[B]', '[L]', '[Q]', '[C]', '[S]', '[N]', '[F]'],\n",
       " [' 4 ', '[F]'],\n",
       " [' 5 ',\n",
       "  '[M]',\n",
       "  '[V]',\n",
       "  '[T]',\n",
       "  '[D]',\n",
       "  '[B]',\n",
       "  '[S]',\n",
       "  '[D]',\n",
       "  '[R]',\n",
       "  '[Z]',\n",
       "  '[V]',\n",
       "  '[C]',\n",
       "  '[L]',\n",
       "  '[B]'],\n",
       " [' 6 ', '[B]', '[T]', '[J]', '[P]', '[G]', '[F]', '[S]', '[B]', '[W]', '[D]'],\n",
       " [' 7 ', '[Z]', '[V]', '[L]', '[N]', '[R]'],\n",
       " [' 8 ', '[Q]', '[T]', '[J]', '[B]', '[Z]', '[J]', '[J]'],\n",
       " [' 9 ', '[V]', '[G]', '[D]']]"
      ]
     },
     "execution_count": 147,
     "metadata": {},
     "output_type": "execute_result"
    }
   ],
   "source": [
    "for move in moves:\n",
    "    nr = int(move[1]); fr = int(move[3]); to = int(move[5])\n",
    "    for i in reversed(range(nr)):\n",
    "        a = i+1\n",
    "        tomove = stapels[fr-1].pop(-a)  # pop form botton of move to resembel all lifted at once\n",
    "        stapels[to-1].append(tomove)\n",
    "stapels"
   ]
  },
  {
   "cell_type": "code",
   "execution_count": 148,
   "metadata": {},
   "outputs": [
    {
     "data": {
      "text/plain": [
       "'TPFFBDRJD'"
      ]
     },
     "execution_count": 148,
     "metadata": {},
     "output_type": "execute_result"
    }
   ],
   "source": [
    "ontop = [x[-1][1] for x in stapels]\n",
    "''.join(ontop)"
   ]
  },
  {
   "attachments": {},
   "cell_type": "markdown",
   "metadata": {},
   "source": [
    "## Dec 6"
   ]
  },
  {
   "cell_type": "code",
   "execution_count": 31,
   "metadata": {},
   "outputs": [],
   "source": [
    "with open('dec6-input.txt') as f:\n",
    "    content = f.readlines()[0]\n"
   ]
  },
  {
   "cell_type": "code",
   "execution_count": 32,
   "metadata": {},
   "outputs": [
    {
     "name": "stdout",
     "output_type": "stream",
     "text": [
      "1287\n"
     ]
    }
   ],
   "source": [
    "nrtokens = len(content)\n",
    "nrchars = 4\n",
    "\n",
    "for i in range(nrtokens):\n",
    "    if i>=nrchars:\n",
    "        if len(set(content[i-nrchars:i]))==nrchars:\n",
    "            print(i)\n",
    "            break\n"
   ]
  },
  {
   "cell_type": "code",
   "execution_count": 33,
   "metadata": {},
   "outputs": [
    {
     "name": "stdout",
     "output_type": "stream",
     "text": [
      "3716\n"
     ]
    }
   ],
   "source": [
    "# Part2\n",
    "nrtokens = len(content)\n",
    "nrchars = 14\n",
    "\n",
    "for i in range(nrtokens):\n",
    "    if i>=nrchars:\n",
    "        if len(set(content[i-nrchars:i]))==nrchars:\n",
    "            print(i)\n",
    "            break"
   ]
  },
  {
   "attachments": {},
   "cell_type": "markdown",
   "metadata": {},
   "source": [
    "## Dec 7"
   ]
  },
  {
   "cell_type": "code",
   "execution_count": 140,
   "metadata": {},
   "outputs": [],
   "source": [
    "with open('dec7-input.txt') as f:\n",
    "    content = f.readlines()\n",
    "content = [x.strip() for x in content]"
   ]
  },
  {
   "cell_type": "code",
   "execution_count": 149,
   "metadata": {},
   "outputs": [],
   "source": [
    "class tree:\n",
    "    def __init__(self, name, type='dir', size=0, children=set(), parent=None):\n",
    "        self.name = name\n",
    "        self.type = type\n",
    "        self.size = int(size)\n",
    "        self.children = children\n",
    "        self.parent = parent\n",
    "    \n",
    "    def __repr__(self):\n",
    "        return f'{self.name} ({self.type}) size={self.size}'\n",
    "\n",
    "    # To be able to use set\n",
    "    def __eq__(self, __o):\n",
    "        return self.name == __o\n",
    "    # To be able to use set\n",
    "    def __hash__(self):\n",
    "        return hash(self.name)\n",
    "\n",
    "    def add_file(self, name, size):\n",
    "        self.children.add(tree(name, 'file', size))\n",
    "\n",
    "    def add_dir(self,name):\n",
    "        self.children.add(tree(name, 'dir', parent=self, children=set()))\n",
    "    \n",
    "    def enter_dir(self, name):\n",
    "        if name not in self.children:\n",
    "            self.add_dir(name)\n",
    "        \n",
    "        # find dir and enter\n",
    "        out = [x for x in self.children if x == name][0]\n",
    "        return out\n",
    "    \n",
    "    def get_parent(self):\n",
    "        return self.parent\n",
    "\n",
    "    def propagate_size(self):\n",
    "        if self.type == 'file':\n",
    "            return self.size\n",
    "        else:\n",
    "            size = 0\n",
    "            for child in self.children:\n",
    "                size += child.propagate_size()\n",
    "            self.size = size\n",
    "            return size\n",
    "\n",
    "    def get_smallest_sizes(self, limit, array=[]):\n",
    "        if self.type == 'file':\n",
    "            return array\n",
    "        else:\n",
    "            for child in self.children:\n",
    "                array = child.get_smallest_sizes(limit, array)\n",
    "            if self.size <= limit:\n",
    "                array.append(self.size)\n",
    "            return array\n",
    "    \n",
    "    def get_dir_todelete(self, lower_limit, to_delete=100000000):\n",
    "        if self.type == 'file':# or self.size < lower_limit:\n",
    "            return to_delete\n",
    "        else:\n",
    "            for child in self.children:\n",
    "                prop = child.get_dir_todelete(lower_limit, to_delete)\n",
    "                if prop < to_delete:\n",
    "                    to_delete = prop\n",
    "            if self.size >= lower_limit and self.size < to_delete:\n",
    "                to_delete = self.size\n",
    "            \n",
    "            return to_delete\n",
    "\n",
    "    "
   ]
  },
  {
   "cell_type": "code",
   "execution_count": 150,
   "metadata": {},
   "outputs": [],
   "source": [
    "# Create tree\n",
    "root = tree('root', children=set())\n",
    "location = root\n",
    "i = 0\n",
    "while i<len(content): # will run for last line as well\n",
    "    line = content[i]\n",
    "    # check command\n",
    "    if line=='$ cd ..':\n",
    "        location = location.get_parent()\n",
    "        i+=1\n",
    "        \n",
    "    elif line[:5]=='$ cd ':\n",
    "        subfolder = line[5:]\n",
    "        location = location.enter_dir(subfolder)\n",
    "        i+=1\n",
    "    \n",
    "    elif line=='$ ls':\n",
    "        i+=1\n",
    "        if i>=len(content):\n",
    "                break\n",
    "        line = content[i]\n",
    "        while line[0]!='$':\n",
    "            siz_dir, name = line.split()\n",
    "            if siz_dir!='dir':\n",
    "                location.add_file(name, siz_dir)\n",
    "            elif siz_dir=='dir':\n",
    "                location.add_dir(name)\n",
    "            else:\n",
    "                raise 'Error: Not file or dir' # print('error')\n",
    "            \n",
    "            # next line\n",
    "            i+=1\n",
    "            if i>=len(content):\n",
    "                break\n",
    "            line = content[i]\n"
   ]
  },
  {
   "cell_type": "code",
   "execution_count": 151,
   "metadata": {},
   "outputs": [
    {
     "data": {
      "text/plain": [
       "1390824"
      ]
     },
     "execution_count": 151,
     "metadata": {},
     "output_type": "execute_result"
    }
   ],
   "source": [
    "root.propagate_size()\n",
    "a = root.get_smallest_sizes(100000, [])\n",
    "smallest_dir = sum(a)\n",
    "smallest_dir"
   ]
  },
  {
   "cell_type": "code",
   "execution_count": 152,
   "metadata": {},
   "outputs": [
    {
     "data": {
      "text/plain": [
       "6728267"
      ]
     },
     "execution_count": 152,
     "metadata": {},
     "output_type": "execute_result"
    }
   ],
   "source": [
    "# Part2\n",
    "max_space = 70000000\n",
    "frespace_needed = 30000000\n",
    "\n",
    "size_delete_min = root.size - (max_space-frespace_needed)\n",
    "size_delete_min"
   ]
  },
  {
   "cell_type": "code",
   "execution_count": 153,
   "metadata": {},
   "outputs": [
    {
     "data": {
      "text/plain": [
       "7490863"
      ]
     },
     "execution_count": 153,
     "metadata": {},
     "output_type": "execute_result"
    }
   ],
   "source": [
    "b = root.get_dir_todelete(size_delete_min)\n",
    "b"
   ]
  },
  {
   "attachments": {},
   "cell_type": "markdown",
   "metadata": {},
   "source": [
    "## Dec 8"
   ]
  },
  {
   "cell_type": "code",
   "execution_count": 1,
   "metadata": {},
   "outputs": [
    {
     "data": {
      "text/plain": [
       "array([['2', '3', '0', '3', '0', '2', '1', '0', '2', '3', '1', '2', '3',\n",
       "        '0', '3', '4', '3', '1', '3', '2', '4', '1', '2', '4', '3', '0',\n",
       "        '3', '1', '4', '1', '1', '1', '4', '0', '4', '5', '3', '0', '0',\n",
       "        '0', '0', '1', '5', '0', '1', '2', '4', '2', '1', '5', '6', '1',\n",
       "        '0', '5', '3', '6', '3', '2', '4', '2', '0', '3', '2', '1', '2',\n",
       "        '3', '1', '3', '5', '2', '1', '0', '1', '4', '3', '3', '2', '4',\n",
       "        '2', '2', '4', '1', '4', '0', '1', '3', '2', '3', '3', '2', '1',\n",
       "        '1', '2', '1', '0', '0', '2', '2', '1'],\n",
       "       ['3', '2', '2', '2', '0', '0', '1', '2', '0', '1', '4', '0', '1',\n",
       "        '3', '0', '3', '2', '3', '1', '4', '3', '4', '3', '3', '4', '0',\n",
       "        '2', '1', '0', '1', '4', '4', '4', '2', '3', '3', '5', '1', '2',\n",
       "        '1', '4', '0', '2', '2', '4', '0', '6', '2', '4', '2', '2', '0',\n",
       "        '1', '1', '1', '1', '1', '4', '0', '3', '2', '3', '1', '0', '5',\n",
       "        '2', '5', '2', '1', '0', '5', '3', '5', '4', '2', '2', '5', '2',\n",
       "        '4', '0', '1', '0', '1', '2', '2', '3', '2', '4', '4', '3', '1',\n",
       "        '0', '2', '1', '1', '1', '0', '3', '2']], dtype='<U1')"
      ]
     },
     "execution_count": 1,
     "metadata": {},
     "output_type": "execute_result"
    }
   ],
   "source": [
    "with open('dec8-input.txt') as f:\n",
    "    input = f.readlines()\n",
    "\n",
    "trees = [x.strip() for x in input]\n",
    "\n",
    "# make matrix\n",
    "import numpy as np\n",
    "trees = [list(x) for x in trees]\n",
    "trees = np.array(trees)\n",
    "trees[:2]"
   ]
  },
  {
   "cell_type": "code",
   "execution_count": 2,
   "metadata": {},
   "outputs": [
    {
     "data": {
      "text/plain": [
       "\"trees = ['30373', '25512', '65332', '33549', '35390']\\n# make matrix\\nimport numpy as np\\ntrees = [list(x) for x in trees]\\ntrees = np.array(trees)\\ntrees\""
      ]
     },
     "execution_count": 2,
     "metadata": {},
     "output_type": "execute_result"
    }
   ],
   "source": [
    "# TEST CASE\n",
    "\"\"\"trees = ['30373', '25512', '65332', '33549', '35390']\n",
    "# make matrix\n",
    "import numpy as np\n",
    "trees = [list(x) for x in trees]\n",
    "trees = np.array(trees)\n",
    "trees\"\"\""
   ]
  },
  {
   "cell_type": "code",
   "execution_count": 3,
   "metadata": {},
   "outputs": [
    {
     "data": {
      "text/plain": [
       "array([[1, 1, 1, ..., 1, 1, 1],\n",
       "       [1, 0, 1, ..., 0, 1, 1],\n",
       "       [1, 0, 0, ..., 1, 1, 1],\n",
       "       ...,\n",
       "       [1, 0, 0, ..., 0, 0, 1],\n",
       "       [1, 0, 0, ..., 0, 1, 1],\n",
       "       [1, 1, 1, ..., 1, 1, 1]])"
      ]
     },
     "execution_count": 3,
     "metadata": {},
     "output_type": "execute_result"
    }
   ],
   "source": [
    "rows, cols = trees.shape\n",
    "seen_trees = np.zeros((rows, cols), dtype=int)\n",
    "\n",
    "# nr trees from left\n",
    "for row in range(rows):\n",
    "    highest = -1\n",
    "    for col in range(cols):\n",
    "        # if tree is higher, mark as seen and store height\n",
    "        if int(trees[row, col])>highest:\n",
    "            seen_trees[row, col] = 1\n",
    "            highest = int(trees[row, col])\n",
    "        \n",
    "# nr trees from right\n",
    "for row in reversed(range(rows)):\n",
    "    highest = -1\n",
    "    for col in reversed(range(cols)):\n",
    "        # if tree is higher, mark as seen and store height\n",
    "        if int(trees[row, col])>highest:\n",
    "            seen_trees[row, col] = 1\n",
    "            highest = int(trees[row, col])\n",
    "\n",
    "\n",
    "# nr trees from top\n",
    "for col in range(cols):\n",
    "    highest = -1\n",
    "    for row in range(rows):\n",
    "        # if tree is higher, mark as seen and store height\n",
    "        if int(trees[row, col])>highest:\n",
    "            seen_trees[row, col] = 1\n",
    "            highest = int(trees[row, col])\n",
    "\n",
    "# nr trees from bottom\n",
    "for col in reversed(range(cols)):\n",
    "    highest = -1\n",
    "    for row in reversed(range(rows)):\n",
    "        # if tree is higher, mark as seen and store height\n",
    "        if int(trees[row, col])>highest:\n",
    "            seen_trees[row, col] = 1\n",
    "            highest = int(trees[row, col])\n",
    "\n",
    "seen_trees"
   ]
  },
  {
   "cell_type": "code",
   "execution_count": 4,
   "metadata": {},
   "outputs": [
    {
     "data": {
      "text/plain": [
       "1684"
      ]
     },
     "execution_count": 4,
     "metadata": {},
     "output_type": "execute_result"
    }
   ],
   "source": [
    "np.sum(seen_trees)"
   ]
  },
  {
   "cell_type": "code",
   "execution_count": 5,
   "metadata": {},
   "outputs": [
    {
     "data": {
      "text/plain": [
       "array([0, 1, 0, 1])"
      ]
     },
     "execution_count": 5,
     "metadata": {},
     "output_type": "execute_result"
    }
   ],
   "source": [
    "# Part2 - not done\n",
    "rows, cols = trees.shape\n",
    "view_dist = np.zeros((rows, cols, 4), dtype=int) # left=0, right=1, up=2, donw=3\n",
    "\n",
    "for row in range(rows):\n",
    "    for col in range(cols):\n",
    "        # left\n",
    "        for left in reversed(range(col)):\n",
    "            view_dist[row, col, 0] += 1\n",
    "            if int(trees[row, col])<=int(trees[row, left]):\n",
    "                break\n",
    "        # right\n",
    "        for right in range(cols-col)[1:]:\n",
    "            view_dist[row, col, 1] += 1\n",
    "            if int(trees[row, col])<=int(trees[row, col+right]):\n",
    "                break\n",
    "        # up\n",
    "        for up in reversed(range(row)):\n",
    "            view_dist[row, col, 2] += 1\n",
    "            if int(trees[row, col])<=int(trees[up, col]):\n",
    "                break\n",
    "        # down\n",
    "        for down in range(rows-row)[1:]:\n",
    "            view_dist[row, col, 3] += 1\n",
    "            if int(trees[row, col])<=int(trees[row+down, col]):\n",
    "                break\n",
    "\n",
    "\n",
    "view_dist[0,0,:]\n",
    "\n"
   ]
  },
  {
   "cell_type": "code",
   "execution_count": 6,
   "metadata": {},
   "outputs": [],
   "source": [
    "#trees"
   ]
  },
  {
   "cell_type": "code",
   "execution_count": 7,
   "metadata": {},
   "outputs": [],
   "source": [
    "#view_dist[2, 1, :]"
   ]
  },
  {
   "cell_type": "code",
   "execution_count": 8,
   "metadata": {},
   "outputs": [
    {
     "data": {
      "text/plain": [
       "array([[ 0,  0,  0, ...,  0,  0,  0],\n",
       "       [ 0,  1,  5, ...,  1, 16,  0],\n",
       "       [ 0,  2,  1, ..., 12,  1,  0],\n",
       "       ...,\n",
       "       [ 0,  2,  1, ...,  2,  1,  0],\n",
       "       [ 0,  3,  1, ...,  6,  2,  0],\n",
       "       [ 0,  0,  0, ...,  0,  0,  0]])"
      ]
     },
     "execution_count": 8,
     "metadata": {},
     "output_type": "execute_result"
    }
   ],
   "source": [
    "# multiply each dim 3 in view_dist\n",
    "res = np.prod(view_dist, axis=2)\n",
    "res\n"
   ]
  },
  {
   "cell_type": "code",
   "execution_count": 9,
   "metadata": {},
   "outputs": [
    {
     "data": {
      "text/plain": [
       "486540"
      ]
     },
     "execution_count": 9,
     "metadata": {},
     "output_type": "execute_result"
    }
   ],
   "source": [
    "# find max value\n",
    "max_val = np.max(res)\n",
    "max_val"
   ]
  },
  {
   "attachments": {},
   "cell_type": "markdown",
   "metadata": {},
   "source": [
    "## Dec 9"
   ]
  },
  {
   "cell_type": "code",
   "execution_count": null,
   "metadata": {},
   "outputs": [],
   "source": []
  }
 ],
 "metadata": {
  "kernelspec": {
   "display_name": "EPDnorwayenv",
   "language": "python",
   "name": "python3"
  },
  "language_info": {
   "codemirror_mode": {
    "name": "ipython",
    "version": 3
   },
   "file_extension": ".py",
   "mimetype": "text/x-python",
   "name": "python",
   "nbconvert_exporter": "python",
   "pygments_lexer": "ipython3",
   "version": "3.10.9"
  },
  "orig_nbformat": 4,
  "vscode": {
   "interpreter": {
    "hash": "99caf40d570ee9ed877c24208ac7592d73440e67c058424c0ecaaa099cc70823"
   }
  }
 },
 "nbformat": 4,
 "nbformat_minor": 2
}
